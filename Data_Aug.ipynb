{
  "nbformat": 4,
  "nbformat_minor": 0,
  "metadata": {
    "colab": {
      "provenance": []
    },
    "kernelspec": {
      "name": "python3",
      "display_name": "Python 3"
    },
    "language_info": {
      "name": "python"
    }
  },
  "cells": [
    {
      "cell_type": "code",
      "source": [
        "from keras.preprocessing.image import ImageDataGenerator\n",
        "from keras_preprocessing.image import array_to_img, img_to_array, load_img\n",
        "import matplotlib.pyplot as plt\n",
        "   \n",
        "\n",
        "datagen = ImageDataGenerator(\n",
        "        rotation_range = 40,\n",
        "        shear_range = 0.2,\n",
        "        zoom_range = 0.2,\n",
        "        horizontal_flip = True,\n",
        "        brightness_range = (0.5, 1.5))\n",
        "    \n",
        "\n",
        "img = load_img('/content/Image.jpg') \n",
        "\n",
        "x = img_to_array(img)\n",
        "\n",
        "x = x.reshape((1, ) + x.shape) \n",
        "   \n",
        " \n",
        "i = 0\n",
        "for batch in datagen.flow(x, batch_size = 1,\n",
        "                          save_to_dir='/content/Image',\n",
        "                          save_prefix ='image', save_format ='jpeg'):\n",
        "    i += 1\n",
        "   \n",
        "    if i > 5:\n",
        "        break"
      ],
      "metadata": {
        "id": "BCILqt6DI1c6"
      },
      "execution_count": 46,
      "outputs": []
    },
    {
      "cell_type": "code",
      "source": [],
      "metadata": {
        "id": "pQrXYFofKsIZ"
      },
      "execution_count": null,
      "outputs": []
    }
  ]
}